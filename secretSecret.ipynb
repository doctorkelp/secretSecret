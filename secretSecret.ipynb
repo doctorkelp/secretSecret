{
 "cells": [
  {
   "cell_type": "markdown",
   "id": "744409df",
   "metadata": {},
   "source": [
    "## Setup: How to install the needed libraries\n",
    "\n",
    "First, we need to install PyCryptodome. Open the terminal (Command Prompt on Windows, Terminal on macOS) and run the following command:"
   ]
  },
  {
   "cell_type": "code",
   "execution_count": null,
   "id": "b940b96f",
   "metadata": {},
   "outputs": [],
   "source": [
    "!pip3 install pycryptodome"
   ]
  },
  {
   "cell_type": "markdown",
   "id": "f4918d75",
   "metadata": {},
   "source": [
    "### How to generate a public and private key\n",
    "\n",
    "You can create the public and private keys using the following code:"
   ]
  },
  {
   "cell_type": "code",
   "execution_count": null,
   "id": "8558ff20",
   "metadata": {},
   "outputs": [],
   "source": [
    "import os\n",
    "from Crypto.PublicKey import RSA\n",
    "\n",
    "private_key_path = \"private.pem\"\n",
    "public_key_path = \"public.pem\"\n",
    "\n",
    "# Check if the private and public key files already exist\n",
    "if os.path.exists(private_key_path) or os.path.exists(public_key_path):\n",
    "    print(\"Public or private key files already exist. Aborting key generation.\")\n",
    "else:\n",
    "    key = RSA.generate(2048)\n",
    "    private_key = key.export_key()\n",
    "    public_key = key.publickey().export_key()\n",
    "\n",
    "    with open(private_key_path, \"wb\") as private_file:\n",
    "        private_file.write(private_key)\n",
    "    \n",
    "    with open(public_key_path, \"wb\") as public_file:\n",
    "        public_file.write(public_key)\n",
    "\n",
    "    print(\"Public and private keys generated successfully.\")\n"
   ]
  },
  {
   "cell_type": "markdown",
   "id": "9422ab35",
   "metadata": {},
   "source": [
    "The above code will generate two files: `private.pem`, containing the private key, and `public.pem`, containing the public key.\n",
    "\n",
    "# Note: \n",
    "If you already have a private key, do not run the previous block of code, as it may overwrite your private and public key!\n",
    "\n",
    "## Encryption: How to encrypt a message\n",
    "\n",
    "Assuming you have the public key and the message you want to encrypt is in a text file named `message.txt`, you can encrypt the message with the following code:"
   ]
  },
  {
   "cell_type": "code",
   "execution_count": 8,
   "id": "25ad45d3",
   "metadata": {},
   "outputs": [],
   "source": [
    "from Crypto.PublicKey import RSA\n",
    "from Crypto.Cipher import PKCS1_OAEP\n",
    "import os\n",
    "\n",
    "public_key = RSA.import_key(open(\"public.pem\").read())\n",
    "cipher = PKCS1_OAEP.new(public_key)\n",
    "\n",
    "with open(\"message.txt\", \"rb\") as message_file:\n",
    "    message = message_file.read()\n",
    "\n",
    "encrypted_message = cipher.encrypt(message)\n",
    "\n",
    "with open(\"encrypted_message.bin\", \"wb\") as encrypted_file:\n",
    "    encrypted_file.write(encrypted_message)"
   ]
  },
  {
   "cell_type": "markdown",
   "id": "82bddd1b",
   "metadata": {},
   "source": [
    "## Decryption: How to decrypt the message\n",
    "\n",
    "Assuming you have the private key, you can decrypt the message with the following code:"
   ]
  },
  {
   "cell_type": "code",
   "execution_count": 9,
   "id": "05e460a5",
   "metadata": {},
   "outputs": [],
   "source": [
    "from Crypto.PublicKey import RSA\n",
    "from Crypto.Cipher import PKCS1_OAEP\n",
    "\n",
    "private_key = RSA.import_key(open(\"private.pem\").read())\n",
    "cipher = PKCS1_OAEP.new(private_key)\n",
    "\n",
    "with open(\"encrypted_message.bin\", \"rb\") as encrypted_file:\n",
    "    encrypted_message = encrypted_file.read()\n",
    "\n",
    "decrypted_message = cipher.decrypt(encrypted_message)\n",
    "\n",
    "with open(\"decrypted_message.txt\", \"wb\") as decrypted_file:\n",
    "    decrypted_file.write(decrypted_message)"
   ]
  },
  {
   "cell_type": "markdown",
   "id": "1a81e3a5",
   "metadata": {},
   "source": [
    "This code will create a file named `decrypted_message.txt`, containing the original decrypted message."
   ]
  }
 ],
 "metadata": {
  "kernelspec": {
   "display_name": "Python 3",
   "language": "python",
   "name": "python3"
  },
  "language_info": {
   "codemirror_mode": {
    "name": "ipython",
    "version": 3
   },
   "file_extension": ".py",
   "mimetype": "text/x-python",
   "name": "python",
   "nbconvert_exporter": "python",
   "pygments_lexer": "ipython3",
   "version": "3.11.3"
  }
 },
 "nbformat": 4,
 "nbformat_minor": 5
}
